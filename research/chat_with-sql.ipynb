{
 "cells": [
  {
   "cell_type": "markdown",
   "metadata": {},
   "source": [
    "## importing libraries"
   ]
  },
  {
   "cell_type": "code",
   "execution_count": 1,
   "metadata": {},
   "outputs": [
    {
     "data": {
      "text/plain": [
       "True"
      ]
     },
     "execution_count": 1,
     "metadata": {},
     "output_type": "execute_result"
    }
   ],
   "source": [
    "import os\n",
    "from langchain.agents import *\n",
    "from langchain.sql_database import SQLDatabase\n",
    "from langchain.agents.agent_toolkits import SQLDatabaseToolkit\n",
    "from langchain.agents import AgentExecutor\n",
    "from dotenv import load_dotenv\n",
    "import os\n",
    "load_dotenv()"
   ]
  },
  {
   "cell_type": "markdown",
   "metadata": {},
   "source": [
    "### Database connection"
   ]
  },
  {
   "cell_type": "code",
   "execution_count": 4,
   "metadata": {},
   "outputs": [],
   "source": [
    "db_user = os.getenv(\"DB_USER\")\n",
    "db_password = os.getenv(\"DB_PASSWORD\")\n",
    "db_host = os.getenv('DB_HOST')\n",
    "db_name = os.getenv('DB_NAME')\n",
    "db = SQLDatabase.from_uri(f\"mysql+pymysql://{db_user}:{db_password}@{db_host}/{db_name}\")"
   ]
  },
  {
   "cell_type": "markdown",
   "metadata": {},
   "source": [
    "### let's setup the LLMs, toolkit, and agent executer\n"
   ]
  },
  {
   "cell_type": "code",
   "execution_count": 13,
   "metadata": {},
   "outputs": [],
   "source": [
    "from langchain_google_genai import ChatGoogleGenerativeAI \n",
    "import google.generativeai as genai\n",
    "\n",
    "\n",
    "KEY=os.getenv(\"GOOGLE_API_KEY\")\n",
    "\n",
    "# genai.GenerativeModel('gemini-pro')\n",
    "genai.configure(api_key=KEY)"
   ]
  },
  {
   "cell_type": "code",
   "execution_count": 18,
   "metadata": {},
   "outputs": [
    {
     "data": {
      "text/plain": [
       "'Data is a collection of facts, figures, and other information that has been organized and processed so that it can be used for analysis, decision-making, or other purposes. Data can be numerical, textual, or graphical, and it can be collected from a variety of sources, such as surveys, questionnaires, experiments, and observations.\\n\\nData is essential for understanding the world around us. It helps us to make informed decisions, to identify trends, and to predict future outcomes. Data can also be used to test hypotheses, to evaluate the effectiveness of programs, and to communicate information to others.\\n\\nThere are many different types of data, each with its own unique characteristics. Some common types of data include:\\n\\n* **Numerical data:** Data that can be represented by numbers, such as temperature, height, or weight.\\n* **Textual data:** Data that consists of text, such as a name, address, or description.\\n* **Graphical data:** Data that is represented in a visual format, such as a chart, graph, or map.\\n\\nData can be collected from a variety of sources, including:\\n\\n* **Surveys:** A survey is a questionnaire that is given to a group of people to collect information about their experiences, beliefs, or attitudes.\\n* **Questionnaires:** A questionnaire is a set of questions that is given to an individual to collect information about their experiences, beliefs, or attitudes.\\n* **Experiments:** An experiment is a controlled study that is used to test a hypothesis.\\n* **Observations:** An observation is a record of what is seen or heard.\\n\\nData is a valuable asset, and it can be used to improve our understanding of the world around us. By collecting, analyzing, and interpreting data, we can make better decisions, identify trends, and predict future outcomes.'"
      ]
     },
     "execution_count": 18,
     "metadata": {},
     "output_type": "execute_result"
    }
   ],
   "source": [
    "from langchain.schema.messages import HumanMessage\n",
    "\n",
    "model = ChatGoogleGenerativeAI(model=\"gemini-pro\", convert_system_message_to_human=True)\n",
    "model.invoke(\"what is data?\").content"
   ]
  },
  {
   "cell_type": "code",
   "execution_count": 19,
   "metadata": {},
   "outputs": [],
   "source": [
    "toolkit = SQLDatabaseToolkit(db=db, llm=model)"
   ]
  },
  {
   "cell_type": "code",
   "execution_count": 20,
   "metadata": {},
   "outputs": [],
   "source": [
    "agent_executor = create_sql_agent(\n",
    "    llm=model,\n",
    "    toolkit=toolkit,\n",
    "    verbose=True\n",
    ")"
   ]
  },
  {
   "cell_type": "markdown",
   "metadata": {},
   "source": [
    "### let's check\n"
   ]
  },
  {
   "cell_type": "code",
   "execution_count": 22,
   "metadata": {},
   "outputs": [
    {
     "name": "stdout",
     "output_type": "stream",
     "text": [
      "\n",
      "\n",
      "\u001b[1m> Entering new SQL Agent Executor chain...\u001b[0m\n",
      "\u001b[32;1m\u001b[1;3mAction: sql_db_list_tables\n",
      "Action Input: \u001b[0m\u001b[38;5;200m\u001b[1;3mabc, orders, orders_details, pizza_types, pizzas\u001b[0m\u001b[32;1m\u001b[1;3mAction: sql_db_query_checker\n",
      "Action Input: select substr(order_date, 1, 7) AS Month, sum(quantity*price) as total_sales from orders_details od join orders o on o.order_id = od.order_id group by substr(order_date, 1, 7)\u001b[0m\u001b[36;1m\u001b[1;3m```sql\n",
      "SELECT SUBSTRING(order_date, 1, 7) AS Month, SUM(quantity * price) AS total_sales \n",
      "FROM orders_details od \n",
      "JOIN orders o ON o.order_id = od.order_id \n",
      "GROUP BY SUBSTRING(order_date, 1, 7);\n",
      "```\u001b[0m\u001b[32;1m\u001b[1;3mAction: sql_db_query\n",
      "Action Input: select substr(order_date, 1, 7) AS Month, sum(quantity*price) as total_sales from orders_details od join orders o on o.order_id = od.order_id group by substr(order_date, 1, 7)\u001b[0m\u001b[36;1m\u001b[1;3mError: (pymysql.err.OperationalError) (1054, \"Unknown column 'order_date' in 'field list'\")\n",
      "[SQL: select substr(order_date, 1, 7) AS Month, sum(quantity*price) as total_sales from orders_details od join orders o on o.order_id = od.order_id group by substr(order_date, 1, 7)]\n",
      "(Background on this error at: https://sqlalche.me/e/20/e3q8)\u001b[0m\u001b[32;1m\u001b[1;3mAction: sql_db_schema\n",
      "Action Input: orders_details\u001b[0m\u001b[33;1m\u001b[1;3m\n",
      "CREATE TABLE orders_details (\n",
      "\torder_details_id INTEGER NOT NULL, \n",
      "\torder_id INTEGER NOT NULL, \n",
      "\tpizza_id TEXT NOT NULL, \n",
      "\tquantity INTEGER NOT NULL, \n",
      "\tPRIMARY KEY (order_details_id)\n",
      ")DEFAULT CHARSET=utf8mb4 COLLATE utf8mb4_0900_ai_ci ENGINE=InnoDB\n",
      "\n",
      "/*\n",
      "3 rows from orders_details table:\n",
      "order_details_id\torder_id\tpizza_id\tquantity\n",
      "1\t1\thawaiian_m\t1\n",
      "2\t2\tclassic_dlx_m\t1\n",
      "3\t2\tfive_cheese_l\t1\n",
      "*/\u001b[0m\u001b[32;1m\u001b[1;3mAction: sql_db_schema\n",
      "Action Input: orders\u001b[0m\u001b[33;1m\u001b[1;3m\n",
      "CREATE TABLE orders (\n",
      "\torder_id INTEGER NOT NULL, \n",
      "\torder_data DATE NOT NULL, \n",
      "\torder_time TIME NOT NULL, \n",
      "\tPRIMARY KEY (order_id)\n",
      ")DEFAULT CHARSET=utf8mb4 COLLATE utf8mb4_0900_ai_ci ENGINE=InnoDB\n",
      "\n",
      "/*\n",
      "3 rows from orders table:\n",
      "order_id\torder_data\torder_time\n",
      "1\t2015-01-01\t11:38:36\n",
      "2\t2015-01-01\t11:57:40\n",
      "3\t2015-01-01\t12:12:28\n",
      "*/\u001b[0m\u001b[32;1m\u001b[1;3mAction: sql_db_query_checker\n",
      "Action Input: select substr(order_date, 1, 7) AS Month, sum(quantity*price) as total_sales from orders_details od join orders o on o.order_id = od.order_id group by substr(order_date, 1, 7)\u001b[0m\u001b[36;1m\u001b[1;3m```sql\n",
      "select substr(order_date, 1, 7) AS Month, sum(quantity*price) as total_sales \n",
      "from orders_details od \n",
      "join orders o on o.order_id = od.order_id \n",
      "group by substr(order_date, 1, 7)\n",
      "```\u001b[0m\u001b[32;1m\u001b[1;3mAction: sql_db_query\n",
      "Action Input: select substr(order_date, 1, 7) AS Month, sum(quantity*price) as total_sales from orders_details od join orders o on o.order_id = od.order_id group by substr(order_date, 1, 7)\u001b[0m\u001b[36;1m\u001b[1;3mError: (pymysql.err.OperationalError) (1054, \"Unknown column 'order_date' in 'field list'\")\n",
      "[SQL: select substr(order_date, 1, 7) AS Month, sum(quantity*price) as total_sales from orders_details od join orders o on o.order_id = od.order_id group by substr(order_date, 1, 7)]\n",
      "(Background on this error at: https://sqlalche.me/e/20/e3q8)\u001b[0m\u001b[32;1m\u001b[1;3mThe column 'order_date' is not found in either the 'orders' or 'orders_details' table. We should change it to 'order_data'\n",
      "Action: sql_db_query_checker\n",
      "Action Input: select substr(order_data, 1, 7) AS Month, sum(quantity*price) as total_sales from orders_details od join orders o on o.order_id = od.order_id group by substr(order_data, 1, 7)\u001b[0m\u001b[36;1m\u001b[1;3mselect substr(order_data, 1, 7) AS Month, sum(quantity*price) as total_sales from orders_details od join orders o on o.order_id = od.order_id group by substr(order_data, 1, 7)\u001b[0m\u001b[32;1m\u001b[1;3mAction: sql_db_query\n",
      "Action Input: select substr(order_data, 1, 7) AS Month, sum(quantity*price) as total_sales from orders_details od join orders o on o.order_id = od.order_id group by substr(order_data, 1, 7)\u001b[0m\u001b[36;1m\u001b[1;3mError: (pymysql.err.OperationalError) (1054, \"Unknown column 'price' in 'field list'\")\n",
      "[SQL: select substr(order_data, 1, 7) AS Month, sum(quantity*price) as total_sales from orders_details od join orders o on o.order_id = od.order_id group by substr(order_data, 1, 7)]\n",
      "(Background on this error at: https://sqlalche.me/e/20/e3q8)\u001b[0m\u001b[32;1m\u001b[1;3mThe column 'price' is not found in either the 'orders' or 'orders_details' table. We should change it to 'unit_price'\n",
      "Action: sql_db_query_checker\n",
      "Action Input: select substr(order_data, 1, 7) AS Month, sum(quantity*unit_price) as total_sales from orders_details od join orders o on o.order_id = od.order_id group by substr(order_data, 1, 7)\u001b[0m\u001b[36;1m\u001b[1;3m```sql\n",
      "select substr(order_data, 1, 7) AS Month, sum(quantity*unit_price) as total_sales from orders_details od join orders o on o.order_id = od.order_id group by substr(order_data, 1, 7)\n",
      "```\u001b[0m\u001b[32;1m\u001b[1;3mAction: sql_db_query\n",
      "Action Input: select substr(order_data, 1, 7) AS Month, sum(quantity*unit_price) as total_sales from orders_details od join orders o on o.order_id = od.order_id group by substr(order_data, 1, 7)\u001b[0m\u001b[36;1m\u001b[1;3mError: (pymysql.err.OperationalError) (1054, \"Unknown column 'unit_price' in 'field list'\")\n",
      "[SQL: select substr(order_data, 1, 7) AS Month, sum(quantity*unit_price) as total_sales from orders_details od join orders o on o.order_id = od.order_id group by substr(order_data, 1, 7)]\n",
      "(Background on this error at: https://sqlalche.me/e/20/e3q8)\u001b[0m\u001b[32;1m\u001b[1;3mAction: sql_db_schema\n",
      "Action Input: orders_details, pizzas\u001b[0m\u001b[33;1m\u001b[1;3m\n",
      "CREATE TABLE orders_details (\n",
      "\torder_details_id INTEGER NOT NULL, \n",
      "\torder_id INTEGER NOT NULL, \n",
      "\tpizza_id TEXT NOT NULL, \n",
      "\tquantity INTEGER NOT NULL, \n",
      "\tPRIMARY KEY (order_details_id)\n",
      ")DEFAULT CHARSET=utf8mb4 COLLATE utf8mb4_0900_ai_ci ENGINE=InnoDB\n",
      "\n",
      "/*\n",
      "3 rows from orders_details table:\n",
      "order_details_id\torder_id\tpizza_id\tquantity\n",
      "1\t1\thawaiian_m\t1\n",
      "2\t2\tclassic_dlx_m\t1\n",
      "3\t2\tfive_cheese_l\t1\n",
      "*/\n",
      "\n",
      "\n",
      "CREATE TABLE pizzas (\n",
      "\tpizza_id TEXT, \n",
      "\tpizza_type_id TEXT, \n",
      "\tsize TEXT, \n",
      "\tprice DOUBLE\n",
      ")DEFAULT CHARSET=utf8mb4 COLLATE utf8mb4_0900_ai_ci ENGINE=InnoDB\n",
      "\n",
      "/*\n",
      "3 rows from pizzas table:\n",
      "pizza_id\tpizza_type_id\tsize\tprice\n",
      "bbq_ckn_s\tbbq_ckn\tS\t32.3300000000\n",
      "bbq_ckn_m\tbbq_ckn\tM\t32.3300000000\n",
      "bbq_ckn_l\tbbq_ckn\tL\t32.3300000000\n",
      "*/\u001b[0m\u001b[32;1m\u001b[1;3mAction: sql_db_query_checker\n",
      "Action Input: select substr(order_data, 1, 7) AS Month, sum(quantity*price) as total_sales from orders_details od join orders o on o.order_id = od.order_id join pizzas p on p.pizza_id = od.pizza_id group by substr(order_data, 1, 7) \u001b[0m\u001b[36;1m\u001b[1;3m```sql\n",
      "select substr(order_data, 1, 7) AS Month, sum(quantity*price) as total_sales \n",
      "from orders_details od \n",
      "join orders o on o.order_id = od.order_id \n",
      "join pizzas p on p.pizza_id = od.pizza_id \n",
      "group by substr(order_data, 1, 7)\n",
      "```\u001b[0m\u001b[32;1m\u001b[1;3mAction: sql_db_query\n",
      "Action Input: select substr(order_data, 1, 7) AS Month, sum(quantity*price) as total_sales from orders_details od join orders o on o.order_id = od.order_id join pizzas p on p.pizza_id = od.pizza_id group by substr(order_data, 1, 7)\u001b[0m\u001b[36;1m\u001b[1;3m[('2015-02', 77980.10000000033), ('2015-01', 83121.8400000004), ('2015-04', 82136.72000000032), ('2015-03', 84907.62000000052), ('2015-06', 81564.00000000083), ('2015-05', 85008.37000000042), ('2015-08', 82121.97000000102), ('2015-07', 86689.44000000042), ('2015-10', 76134.16000000054), ('2015-09', 77238.05000000041), ('2015-11', 84711.3300000005), ('2015-12', 77573.45000000035)]\u001b[0m\u001b[32;1m\u001b[1;3mFinal Answer: [('2015-02', 77980.10000000033), ('2015-01', 83121.8400000004), ('2015-04', 82136.72000000032), ('2015-03', 84907.62000000052), ('2015-06', 81564.00000000083), ('2015-05', 85008.37000000042), ('2015-08', 82121.97000000102), ('2015-07', 86689.44000000042), ('2015-10', 76134.16000000054), ('2015-09', 77238.05000000041), ('2015-11', 84711.3300000005), ('2015-12', 77573.45000000035)]\u001b[0m\n",
      "\n",
      "\u001b[1m> Finished chain.\u001b[0m\n"
     ]
    },
    {
     "data": {
      "text/plain": [
       "\"[('2015-02', 77980.10000000033), ('2015-01', 83121.8400000004), ('2015-04', 82136.72000000032), ('2015-03', 84907.62000000052), ('2015-06', 81564.00000000083), ('2015-05', 85008.37000000042), ('2015-08', 82121.97000000102), ('2015-07', 86689.44000000042), ('2015-10', 76134.16000000054), ('2015-09', 77238.05000000041), ('2015-11', 84711.3300000005), ('2015-12', 77573.45000000035)]\""
      ]
     },
     "execution_count": 22,
     "metadata": {},
     "output_type": "execute_result"
    }
   ],
   "source": [
    "agent_executor.run(\"what is total sales month wise?\")"
   ]
  },
  {
   "cell_type": "code",
   "execution_count": 28,
   "metadata": {},
   "outputs": [
    {
     "name": "stdout",
     "output_type": "stream",
     "text": [
      "\n",
      "\n",
      "\u001b[1m> Entering new SQL Agent Executor chain...\u001b[0m\n",
      "\u001b[32;1m\u001b[1;3mAction: sql_db_list_tables\n",
      "Action Input: \u001b[0m\u001b[38;5;200m\u001b[1;3mabc, orders, orders_details, pizza_types, pizzas\u001b[0m\u001b[32;1m\u001b[1;3mAction: sql_db_schema\n",
      "Action Input: pizzas\u001b[0m\u001b[33;1m\u001b[1;3m\n",
      "CREATE TABLE pizzas (\n",
      "\tpizza_id TEXT, \n",
      "\tpizza_type_id TEXT, \n",
      "\tsize TEXT, \n",
      "\tprice DOUBLE\n",
      ")DEFAULT CHARSET=utf8mb4 COLLATE utf8mb4_0900_ai_ci ENGINE=InnoDB\n",
      "\n",
      "/*\n",
      "3 rows from pizzas table:\n",
      "pizza_id\tpizza_type_id\tsize\tprice\n",
      "bbq_ckn_s\tbbq_ckn\tS\t12.7500000000\n",
      "bbq_ckn_m\tbbq_ckn\tM\t16.7500000000\n",
      "bbq_ckn_l\tbbq_ckn\tL\t20.7500000000\n",
      "*/\u001b[0m\u001b[32;1m\u001b[1;3mAction: sql_db_query\n",
      "Action Input: SELECT price FROM pizzas;\u001b[0m\u001b[36;1m\u001b[1;3m[(12.75,), (16.75,), (20.75,), (12.75,), (16.75,), (20.75,), (12.75,), (16.75,), (20.75,), (12.75,), (16.75,), (20.75,), (12.75,), (16.75,), (20.75,), (12.75,), (16.75,), (20.75,), (12.0,), (16.0,), (20.5,), (12.0,), (16.0,), (20.5,), (10.5,), (13.25,), (16.5,), (12.0,), (16.0,), (20.5,), (12.0,), (16.0,), (20.5,), (11.0,), (14.5,), (17.5,), (9.75,), (12.5,), (15.25,), (12.0,), (16.0,), (20.5,), (25.5,), (35.95,), (23.65,), (12.25,), (16.25,), (20.25,), (12.5,), (16.5,), (20.75,), (12.5,), (16.5,), (20.75,), (12.5,), (16.5,), (20.75,), (12.25,), (16.25,), (20.25,), (12.5,), (16.5,), (20.75,), (12.5,), (16.5,), (20.75,), (12.5,), (16.5,), (20.75,), (12.5,), (15.5,), (18.5,), (11.75,), (14.75,), (17.95,), (12.0,), (16.0,), (20.25,), (12.75,), (16.75,), (21.0,), (12.0,), (16.0,), (20.25,), (12.0,), (16.0,), (20.25,), (12.5,), (16.5,), (20.75,), (12.0,), (16.0,), (20.25,), (12.0,), (16.0,), (20.25,)]\u001b[0m\u001b[32;1m\u001b[1;3mFinal Answer: 12.75, 16.75, 20.75, 12.75, 16.75, 20.75, 12.75, 16.75, 20.75, 12.75, 16.75, 20.75, 12.75, 16.75, 20.75, 12.75, 16.75, 20.75, 12.0, 16.0, 20.5, 12.0, 16.0, 20.5, 10.5, 13.25, 16.5, 12.0, 16.0, 20.5, 12.0, 16.0, 20.5, 11.0, 14.5, 17.5, 9.75, 12.5, 15.25, 12.0, 16.0, 20.5, 25.5, 35.95, 23.65, 12.25, 16.25, 20.25, 12.5, 16.5, 20.75, 12.5, 16.5, 20.75, 12.5, 16.5, 20.75, 12.25, 16.25, 20.25, 12.5, 16.5, 20.75, 12.5, 16.5, 20.75, 12.5, 16.5, 20.75, 12.5, 15.5, 18.5, 11.75, 14.75, 17.95, 12.0, 16.0, 20.25, 12.75, 16.75, 21.0, 12.0, 16.0, 20.25, 12.0, 16.0, 20.25, 12.5, 16.5, 20.75, 12.0, 16.0, 20.25, 12.0, 16.0, 20.25\u001b[0m\n",
      "\n",
      "\u001b[1m> Finished chain.\u001b[0m\n"
     ]
    },
    {
     "data": {
      "text/plain": [
       "'12.75, 16.75, 20.75, 12.75, 16.75, 20.75, 12.75, 16.75, 20.75, 12.75, 16.75, 20.75, 12.75, 16.75, 20.75, 12.75, 16.75, 20.75, 12.0, 16.0, 20.5, 12.0, 16.0, 20.5, 10.5, 13.25, 16.5, 12.0, 16.0, 20.5, 12.0, 16.0, 20.5, 11.0, 14.5, 17.5, 9.75, 12.5, 15.25, 12.0, 16.0, 20.5, 25.5, 35.95, 23.65, 12.25, 16.25, 20.25, 12.5, 16.5, 20.75, 12.5, 16.5, 20.75, 12.5, 16.5, 20.75, 12.25, 16.25, 20.25, 12.5, 16.5, 20.75, 12.5, 16.5, 20.75, 12.5, 16.5, 20.75, 12.5, 15.5, 18.5, 11.75, 14.75, 17.95, 12.0, 16.0, 20.25, 12.75, 16.75, 21.0, 12.0, 16.0, 20.25, 12.0, 16.0, 20.25, 12.5, 16.5, 20.75, 12.0, 16.0, 20.25, 12.0, 16.0, 20.25'"
      ]
     },
     "execution_count": 28,
     "metadata": {},
     "output_type": "execute_result"
    }
   ],
   "source": [
    "agent_executor.run(\"I want all pizza price\")"
   ]
  },
  {
   "cell_type": "code",
   "execution_count": null,
   "metadata": {},
   "outputs": [],
   "source": []
  }
 ],
 "metadata": {
  "kernelspec": {
   "display_name": "chat_with_sql",
   "language": "python",
   "name": "python3"
  },
  "language_info": {
   "codemirror_mode": {
    "name": "ipython",
    "version": 3
   },
   "file_extension": ".py",
   "mimetype": "text/x-python",
   "name": "python",
   "nbconvert_exporter": "python",
   "pygments_lexer": "ipython3",
   "version": "3.12.3"
  }
 },
 "nbformat": 4,
 "nbformat_minor": 2
}
